{
 "cells": [
  {
   "cell_type": "code",
   "execution_count": 26,
   "metadata": {},
   "outputs": [
    {
     "name": "stdout",
     "output_type": "stream",
     "text": [
      "Vehicle started.\n",
      "Driving Toyota Camry.\n"
     ]
    }
   ],
   "source": [
    "class Vehicle:\n",
    "    def __init__(self, brand):\n",
    "        self.brand = brand\n",
    "\n",
    "    def start(self):\n",
    "        print(\"Vehicle started.\")\n",
    "\n",
    "class Car(Vehicle):\n",
    "    def __init__(self, brand, model):\n",
    "        super().__init__(brand)\n",
    "        self.model = model\n",
    "\n",
    "    def drive(self):\n",
    "        print(f\"Driving {self.brand} {self.model}.\")\n",
    "\n",
    "car1 = Car(\"Toyota\", \"Camry\")\n",
    "car1.start()  # Output: Vehicle started.\n",
    "car1.drive()  # Output: Driving Toyota Camry."
   ]
  },
  {
   "cell_type": "code",
   "execution_count": 30,
   "metadata": {},
   "outputs": [
    {
     "name": "stdout",
     "output_type": "stream",
     "text": [
      "Car started.\n"
     ]
    }
   ],
   "source": [
    "# 3.3 Method Overriding\n",
    "class Vehicle:\n",
    "    def start(self):\n",
    "        print(\"Vehicle started.\")\n",
    "\n",
    "class Car(Vehicle):\n",
    "    def start(self):\n",
    "        print(\"Car started.\")\n",
    "\n",
    "car1 = Car()\n",
    "car1.start()  # Output: Car started."
   ]
  },
  {
   "cell_type": "code",
   "execution_count": 33,
   "metadata": {},
   "outputs": [
    {
     "name": "stdout",
     "output_type": "stream",
     "text": [
      "Vehicle started.\n",
      "Car started.\n"
     ]
    }
   ],
   "source": [
    "# 3.4 Accessing Base Class Methods\n",
    "class Vehicle:\n",
    "    def start(self):\n",
    "        print(\"Vehicle started.\")\n",
    "\n",
    "class Car(Vehicle):\n",
    "    def start(self):\n",
    "        super().start()\n",
    "        print(\"Car started.\")\n",
    "\n",
    "car1 = Car()\n",
    "car1.start()\n"
   ]
  },
  {
   "cell_type": "code",
   "execution_count": 43,
   "metadata": {},
   "outputs": [
    {
     "name": "stdout",
     "output_type": "stream",
     "text": [
      "Vehicle started.\n",
      "Electric car started.\n"
     ]
    }
   ],
   "source": [
    "# 3.5 Multilevel Inheritance\n",
    "class Vehicle:\n",
    "    def start(self):\n",
    "        print(\"Vehicle started.\")\n",
    "\n",
    "class Car(Vehicle):\n",
    "    def drive(self):\n",
    "        print(\"Driving car.\")\n",
    "\n",
    "class ElectricCar(Car):\n",
    "    def start(self):\n",
    "        super().start()\n",
    "        print(\"Electric car started.\")\n",
    "\n",
    "electric_car1 = ElectricCar()\n",
    "electric_car1.start()"
   ]
  },
  {
   "cell_type": "code",
   "execution_count": 45,
   "metadata": {},
   "outputs": [
    {
     "name": "stdout",
     "output_type": "stream",
     "text": [
      "Animal is breathing.\n",
      "Mammal is feeding milk.\n",
      "Dolphin is swimming.\n"
     ]
    }
   ],
   "source": [
    "# Multiple inheritance\n",
    "class Animal:\n",
    "    def breathe(self):\n",
    "        print(\"Animal is breathing.\")\n",
    "\n",
    "class Mammal:\n",
    "    def feed_milk(self):\n",
    "        print(\"Mammal is feeding milk.\")\n",
    "\n",
    "class Dolphin(Animal, Mammal):\n",
    "    def swim(self):\n",
    "        print(\"Dolphin is swimming.\")\n",
    "\n",
    "dolphin1 = Dolphin()\n",
    "dolphin1.breathe()\n",
    "dolphin1.feed_milk()\n",
    "dolphin1.swim()\n",
    "# Output:\n",
    "# Animal is breathing.\n",
    "# Mammal is feeding milk.\n",
    "# Dolphin is swimming.\n"
   ]
  },
  {
   "attachments": {},
   "cell_type": "markdown",
   "metadata": {},
   "source": [
    "Certainly! Method Resolution Order (MRO) is the order in which Python searches for methods in a class hierarchy, especially when dealing with multiple inheritance. It determines the sequence in which base classes are searched for a method or attribute.\n",
    "\n",
    "Python uses the C3 linearization algorithm to compute the MRO. The MRO is computed based on the following principles:\n",
    "\n",
    "1. Depth-First Search (DFS): Python starts by traversing the inheritance graph in a depth-first manner. It first visits the current class, then its first parent, and so on until the topmost parent is reached.\n",
    "\n",
    "2. Left-to-Right Order: When multiple parents exist at the same level in the inheritance graph, Python maintains the original order of the classes as they are listed in the inheritance declaration.\n",
    "\n",
    "To illustrate this, let's consider an example:\n",
    "\n",
    "```python\n",
    "class A:\n",
    "    pass\n",
    "\n",
    "class B(A):\n",
    "    pass\n",
    "\n",
    "class C(A):\n",
    "    pass\n",
    "\n",
    "class D(B, C):\n",
    "    pass\n",
    "```\n",
    "\n",
    "In this example, the class hierarchy is as follows:\n",
    "\n",
    "```\n",
    "    A\n",
    "   / \\\n",
    "  B   C\n",
    "   \\ /\n",
    "    D\n",
    "```\n",
    "\n",
    "Now, let's examine how Python determines the MRO for the class `D`:\n",
    "\n",
    "1. The MRO for `D` starts with `D` itself since it is the first class in the inheritance declaration.\n",
    "\n",
    "2. Next, Python moves to the left parent class, `B`. Since `B` doesn't have any additional parents, it is added to the MRO.\n",
    "\n",
    "3. Python then moves to the right parent class, `C`. Similarly, since `C` doesn't have any additional parents, it is added to the MRO.\n",
    "\n",
    "4. Next, Python moves to the left parent of `B`, which is `A`. Again, `A` is added to the MRO.\n",
    "\n",
    "5. Finally, Python moves to the left parent of `C`, which is also `A`. However, `A` is already present in the MRO, so it is not added again.\n",
    "\n",
    "Therefore, the MRO for `D` in this example is `[D, B, C, A]`. This is the order in which Python will search for methods or attributes when invoked on an instance of `D`.\n",
    "\n",
    "It's important to note that the MRO is computed at class creation time and remains consistent throughout the lifetime of the class. If there is a conflict in the MRO due to inconsistent inheritance or circular dependencies, Python raises a `TypeError`.\n",
    "\n",
    "Understanding the Method Resolution Order is crucial when dealing with multiple inheritance. It allows you to predict the order in which methods will be resolved and provides insights into how method overriding and attribute lookup work in complex class hierarchies.\n",
    "\n",
    "I hope this provides a clearer explanation of the Method Resolution Order (MRO). Let me know if you have any further questions!"
   ]
  },
  {
   "cell_type": "code",
   "execution_count": 67,
   "metadata": {},
   "outputs": [
    {
     "name": "stdout",
     "output_type": "stream",
     "text": [
      "A's method\n"
     ]
    }
   ],
   "source": [
    "import inspect\n",
    "class A:\n",
    "    def method(self):\n",
    "        print(\"A's method\")\n",
    "\n",
    "class B(A):\n",
    "    pass\n",
    "\n",
    "class C(A):\n",
    "    pass\n",
    "\n",
    "class D(B, C):\n",
    "    pass\n",
    "\n",
    "d = D()\n",
    "d.method()\n",
    "# Output: B's method"
   ]
  }
 ],
 "metadata": {
  "kernelspec": {
   "display_name": ".globalenv",
   "language": "python",
   "name": "python3"
  },
  "language_info": {
   "codemirror_mode": {
    "name": "ipython",
    "version": 3
   },
   "file_extension": ".py",
   "mimetype": "text/x-python",
   "name": "python",
   "nbconvert_exporter": "python",
   "pygments_lexer": "ipython3",
   "version": "3.10.6"
  },
  "orig_nbformat": 4
 },
 "nbformat": 4,
 "nbformat_minor": 2
}
