{
 "cells": [
  {
   "cell_type": "code",
   "execution_count": 38,
   "metadata": {},
   "outputs": [
    {
     "name": "stdout",
     "output_type": "stream",
     "text": [
      "<class '__main__.Car'>\n",
      "139638865545008\n",
      "139638865545968\n",
      "False\n",
      "manav shah\n",
      "['__class__', '__delattr__', '__dict__', '__dir__', '__doc__', '__eq__', '__format__', '__ge__', '__getattribute__', '__gt__', '__hash__', '__init__', '__init_subclass__', '__le__', '__lt__', '__module__', '__ne__', '__new__', '__reduce__', '__reduce_ex__', '__repr__', '__setattr__', '__sizeof__', '__str__', '__subclasshook__', '__weakref__', 'name']\n"
     ]
    }
   ],
   "source": [
    "class Car:\n",
    "    name = \"manav\"\n",
    "    pass\n",
    "\n",
    "class Car2:\n",
    "    pass\n",
    "\n",
    "car1 = Car()\n",
    "car2 = Car()\n",
    "car3 = Car2()\n",
    "\n",
    "print(Car)\n",
    "print(id(car1))  # Output: <unique identifier>\n",
    "print(id(car2))  # Output: <unique identifier>\n",
    "\n",
    "print(car1 == car2)\n",
    "\n",
    "car1.__setattr__(\"name\",\"manav shah\")\n",
    "print(car1.__getattribute__(\"name\"))\n",
    "print(dir(car1))\n"
   ]
  },
  {
   "cell_type": "code",
   "execution_count": 45,
   "metadata": {},
   "outputs": [
    {
     "data": {
      "text/plain": [
       "'manav'"
      ]
     },
     "execution_count": 45,
     "metadata": {},
     "output_type": "execute_result"
    }
   ],
   "source": [
    "class base:\n",
    "    def __init__(self,name):\n",
    "        self.name = name\n",
    "    def __str__(self) -> str:\n",
    "        return self.name\n",
    "\n",
    "obj = base(\"manav\")\n",
    "obj.__str__()\n"
   ]
  }
 ],
 "metadata": {
  "kernelspec": {
   "display_name": ".globalenv",
   "language": "python",
   "name": "python3"
  },
  "language_info": {
   "codemirror_mode": {
    "name": "ipython",
    "version": 3
   },
   "file_extension": ".py",
   "mimetype": "text/x-python",
   "name": "python",
   "nbconvert_exporter": "python",
   "pygments_lexer": "ipython3",
   "version": "3.10.6"
  },
  "orig_nbformat": 4
 },
 "nbformat": 4,
 "nbformat_minor": 2
}
