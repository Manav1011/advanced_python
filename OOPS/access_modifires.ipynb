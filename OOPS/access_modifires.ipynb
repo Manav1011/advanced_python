{
 "cells": [
  {
   "cell_type": "code",
   "execution_count": 13,
   "metadata": {},
   "outputs": [
    {
     "name": "stdout",
     "output_type": "stream",
     "text": [
      "This is a public method\n"
     ]
    }
   ],
   "source": [
    "# Public\n",
    "class public:\n",
    "    def method1(self):        \n",
    "        print(\"This is a public method\")\n",
    "\n",
    "obj = public() \n",
    "obj.method1() #Outside the class"
   ]
  },
  {
   "cell_type": "code",
   "execution_count": 16,
   "metadata": {},
   "outputs": [
    {
     "name": "stdout",
     "output_type": "stream",
     "text": [
      "10\n"
     ]
    }
   ],
   "source": [
    "class MyClass:\n",
    "    def __init__(self):\n",
    "        self._protected_attribute = 10\n",
    "\n",
    "obj = MyClass()\n",
    "print(obj._protected_attribute)  # No error, but violates the convention\n"
   ]
  },
  {
   "cell_type": "code",
   "execution_count": 19,
   "metadata": {},
   "outputs": [
    {
     "ename": "AttributeError",
     "evalue": "'MyClass' object has no attribute '__private_attribute'",
     "output_type": "error",
     "traceback": [
      "\u001b[0;31m---------------------------------------------------------------------------\u001b[0m",
      "\u001b[0;31mAttributeError\u001b[0m                            Traceback (most recent call last)",
      "Cell \u001b[0;32mIn[19], line 6\u001b[0m\n\u001b[1;32m      3\u001b[0m         \u001b[39mself\u001b[39m\u001b[39m.\u001b[39m__private_attribute \u001b[39m=\u001b[39m \u001b[39m20\u001b[39m\n\u001b[1;32m      5\u001b[0m obj \u001b[39m=\u001b[39m MyClass()\n\u001b[0;32m----> 6\u001b[0m \u001b[39mprint\u001b[39m(obj\u001b[39m.\u001b[39;49m__private_attribute)\n\u001b[1;32m      7\u001b[0m \u001b[39m# Output: AttributeError: 'MyClass' object has no attribute '__private_attribute'\u001b[39;00m\n",
      "\u001b[0;31mAttributeError\u001b[0m: 'MyClass' object has no attribute '__private_attribute'"
     ]
    }
   ],
   "source": [
    "class MyClass:\n",
    "    def __init__(self):\n",
    "        self.__private_attribute = 20\n",
    "\n",
    "obj = MyClass()\n",
    "print(obj.__private_attribute)\n",
    "# Output: AttributeError: 'MyClass' object has no attribute '__private_attribute'"
   ]
  },
  {
   "cell_type": "code",
   "execution_count": 20,
   "metadata": {},
   "outputs": [
    {
     "ename": "AttributeError",
     "evalue": "'SubClass' object has no attribute '_SubClass__private_attribute'",
     "output_type": "error",
     "traceback": [
      "\u001b[0;31m---------------------------------------------------------------------------\u001b[0m",
      "\u001b[0;31mAttributeError\u001b[0m                            Traceback (most recent call last)",
      "Cell \u001b[0;32mIn[20], line 10\u001b[0m\n\u001b[1;32m      7\u001b[0m         \u001b[39mprint\u001b[39m(\u001b[39mself\u001b[39m\u001b[39m.\u001b[39m__private_attribute)\n\u001b[1;32m      9\u001b[0m obj \u001b[39m=\u001b[39m SubClass()\n\u001b[0;32m---> 10\u001b[0m obj\u001b[39m.\u001b[39;49mprint_private_attribute()\n\u001b[1;32m     11\u001b[0m \u001b[39m# Output: AttributeError: 'SubClass' object has no attribute '__private_attribute'\u001b[39;00m\n",
      "Cell \u001b[0;32mIn[20], line 7\u001b[0m, in \u001b[0;36mSubClass.print_private_attribute\u001b[0;34m(self)\u001b[0m\n\u001b[1;32m      6\u001b[0m \u001b[39mdef\u001b[39;00m \u001b[39mprint_private_attribute\u001b[39m(\u001b[39mself\u001b[39m):\n\u001b[0;32m----> 7\u001b[0m     \u001b[39mprint\u001b[39m(\u001b[39mself\u001b[39;49m\u001b[39m.\u001b[39;49m__private_attribute)\n",
      "\u001b[0;31mAttributeError\u001b[0m: 'SubClass' object has no attribute '_SubClass__private_attribute'"
     ]
    }
   ],
   "source": [
    "class MyClass:\n",
    "    def __init__(self):\n",
    "        self.__private_attribute = 20\n",
    "\n",
    "class SubClass(MyClass):\n",
    "    def print_private_attribute(self):\n",
    "        print(self.__private_attribute)\n",
    "\n",
    "obj = SubClass()\n",
    "obj.print_private_attribute()\n",
    "# Output: AttributeError: 'SubClass' object has no attribute '__private_attribute'\n"
   ]
  }
 ],
 "metadata": {
  "kernelspec": {
   "display_name": ".globalenv",
   "language": "python",
   "name": "python3"
  },
  "language_info": {
   "codemirror_mode": {
    "name": "ipython",
    "version": 3
   },
   "file_extension": ".py",
   "mimetype": "text/x-python",
   "name": "python",
   "nbconvert_exporter": "python",
   "pygments_lexer": "ipython3",
   "version": "3.10.6"
  },
  "orig_nbformat": 4
 },
 "nbformat": 4,
 "nbformat_minor": 2
}
