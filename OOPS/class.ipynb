{
 "cells": [
  {
   "cell_type": "code",
   "execution_count": 29,
   "metadata": {},
   "outputs": [],
   "source": [
    "class base:\n",
    "    class_var_1 = 10\n",
    "    class_var_2 = 20\n",
    "\n",
    "    def __init__(self):\n",
    "        print(\"This is constructor\")\n",
    "        self.new_var = base.class_var_1\n",
    "        print(self.new_var)\n",
    "    def class_method(self):        \n",
    "        print(\"This is a class method\")    \n",
    "    @staticmethod\n",
    "    def staticmethod():           \n",
    "        print(\"This is a static method\")"
   ]
  },
  {
   "cell_type": "code",
   "execution_count": 30,
   "metadata": {},
   "outputs": [
    {
     "name": "stdout",
     "output_type": "stream",
     "text": [
      "This is constructor\n",
      "10\n",
      "10 20\n",
      "This is a class method\n",
      "This is a static method\n"
     ]
    }
   ],
   "source": [
    "obj = base()\n",
    "print(obj.class_var_1,obj.class_var_2)\n",
    "obj.class_method()\n",
    "base.staticmethod()"
   ]
  }
 ],
 "metadata": {
  "kernelspec": {
   "display_name": ".globalenv",
   "language": "python",
   "name": "python3"
  },
  "language_info": {
   "codemirror_mode": {
    "name": "ipython",
    "version": 3
   },
   "file_extension": ".py",
   "mimetype": "text/x-python",
   "name": "python",
   "nbconvert_exporter": "python",
   "pygments_lexer": "ipython3",
   "version": "3.10.6"
  },
  "orig_nbformat": 4
 },
 "nbformat": 4,
 "nbformat_minor": 2
}
